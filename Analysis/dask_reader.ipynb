{
 "cells": [
  {
   "cell_type": "code",
   "execution_count": 1,
   "metadata": {},
   "outputs": [],
   "source": [
    "import dask.dataframe as dd\n",
    "import dask.array as da\n",
    "import os\n",
    "import csv\n",
    "import numba\n",
    "import numpy as np\n",
    "from tqdm import tqdm\n",
    "import pandas as pd\n",
    "import dask\n",
    "import xarray as xr\n",
    "import scipy.io as sio\n",
    "from skimage import exposure\n",
    "from scipy.interpolate import interp1d"
   ]
  },
  {
   "cell_type": "code",
   "execution_count": 2,
   "metadata": {},
   "outputs": [],
   "source": [
    "solar_path = 'Aug14SolarRef.dat'\n",
    "HySICS_wl_path = 'HySICS files/WLHysics.sav'\n",
    "\n",
    "HySICS_LW_data_path = 'Desert_vegetation_clouds/'\n",
    "LW_datacube_path = 'data_cube_water.npy'\n",
    "LW_rgb_path = 'rgb_water.npy'\n",
    "LRT_LW_path = 'WC files/'\n",
    "verbose_LW_path = 'WC files/verbose/'\n",
    "\n",
    "HySICS_IC_data_path = 'Thick_clouds1/'\n",
    "IC_datacube_path = 'data_cube_ice.npy'\n",
    "IC_rgb_path = 'rgb_ice.npy'\n",
    "LRT_IC_path = 'IC files/ghm/'\n",
    "verbose_IC_path = 'IC files/ghm/verbose_ghm/'\n",
    "\n",
    "water_dict = {'solar_path':solar_path,'HySICS_wl_path':HySICS_wl_path,'HySICS_data_path':HySICS_LW_data_path, \\\n",
    "              'LRT_path':LRT_LW_path,'LRT_verbose_path':verbose_LW_path, 'phase':'Liquid Water', \\\n",
    "             'data_cube_path':LW_datacube_path,'rgb_path':LW_rgb_path}\n",
    "ice_dict = {'solar_path':solar_path,'HySICS_wl_path':HySICS_wl_path,'HySICS_data_path':HySICS_IC_data_path, \\\n",
    "              'LRT_path':LRT_IC_path,'LRT_verbose_path':verbose_IC_path, 'phase':'Ice',\\\n",
    "           'data_cube_path':IC_datacube_path,'rgb_path':IC_rgb_path}"
   ]
  },
  {
   "cell_type": "code",
   "execution_count": 3,
   "metadata": {},
   "outputs": [],
   "source": [
    "phase_dict = water_dict"
   ]
  },
  {
   "cell_type": "code",
   "execution_count": 4,
   "metadata": {},
   "outputs": [],
   "source": [
    "def read_HySICS_wl(phase_dict):\n",
    "    hysics_wl = sio.readsav(phase_dict['HySICS_wl_path'])\n",
    "    hysics_wl = hysics_wl['wlsample']\n",
    "    hysics_wl = [x+3.5 for x in hysics_wl]\n",
    "    return hysics_wl;\n",
    "\n",
    "@dask.delayed\n",
    "def read_df(file):\n",
    "    try:\n",
    "        array = np.genfromtxt(file,delimiter=',')\n",
    "        return array\n",
    "    except:\n",
    "        pass\n",
    "\n",
    "def generate_datacube(phase_dict,wl_list):\n",
    "    path = phase_dict['HySICS_data_path']\n",
    "    files = [os.path.join(path,f) for f in os.listdir(path) if f.startswith('img')]\n",
    "    files.sort()\n",
    "\n",
    "    dfs = [read_df(file) for file in files]\n",
    "\n",
    "    sample = dfs[0].compute()\n",
    "    das = [da.from_delayed(item, shape=sample.shape, dtype=sample.dtype) for item in dfs]\n",
    "    array = da.stack(das)\n",
    "\n",
    "    datacube = xr.DataArray(array, dims=['x', 'y', 'wavelength'], name='datacube', coords={'wavelength':wl_list})\n",
    "    return datacube;"
   ]
  },
  {
   "cell_type": "code",
   "execution_count": 5,
   "metadata": {},
   "outputs": [],
   "source": [
    "wl_list = read_HySICS_wl(phase_dict)\n",
    "datacube_dvc = generate_datacube(phase_dict,wl_list)\n",
    "datacube_dvc.to_netcdf('datacube_dvc.nc',format='NETCDF4')"
   ]
  },
  {
   "cell_type": "code",
   "execution_count": 6,
   "metadata": {},
   "outputs": [],
   "source": [
    "def two_percent_linear_stretch(x,idx):\n",
    "    c = x.isel(wavelength=idx)/np.amax(x.isel(wavelength=idx))\n",
    "    p2, p98 = np.percentile(c, (2, 98))\n",
    "    c_scaled = exposure.rescale_intensity(c, in_range=(p2, p98))\n",
    "    return c_scaled;\n",
    "\n",
    "\n",
    "def find_rgb_idx(wl_list):\n",
    "    r_idx = np.argmin([np.abs(670 - x) for x in wl_list])\n",
    "    g_idx = np.argmin([np.abs(555 - x) for x in wl_list])\n",
    "    b_idx = np.argmin([np.abs(443 - x) for x in wl_list])\n",
    "    rgb_idx_list = [r_idx,g_idx,b_idx]\n",
    "    return (rgb_idx_list); \n",
    "\n",
    "\n",
    "def apply_stretch(datacube):\n",
    "    rgb_idx_list = find_rgb_idx(datacube.coords['wavelength'])\n",
    "    \n",
    "    red = two_percent_linear_stretch(datacube,rgb_idx_list[0])\n",
    "    green = two_percent_linear_stretch(datacube,rgb_idx_list[1])\n",
    "    blue = two_percent_linear_stretch(datacube,rgb_idx_list[2])\n",
    "\n",
    "    rgb = np.dstack((red,green,blue))\n",
    "    rgb = xr.DataArray(rgb,dims=('x','y','rgb'))\n",
    "    return rgb;   \n",
    "\n",
    "rgb = apply_stretch(datacube_dvc)\n",
    "rgb.to_netcdf('rgb_dvc.nc',format='NETCDF4')"
   ]
  },
  {
   "cell_type": "code",
   "execution_count": 7,
   "metadata": {},
   "outputs": [],
   "source": [
    "datacube_dvc = xr.open_dataarray('datacube_dvc.nc',chunks=10)\n",
    "rgb = xr.open_dataarray('rgb_dvc.nc',chunks=10)"
   ]
  },
  {
   "cell_type": "code",
   "execution_count": 8,
   "metadata": {},
   "outputs": [],
   "source": [
    "def read_verbose(verbose_file,phase):\n",
    "    data = [x for x in open(verbose_file,'r')]\n",
    "    a = data.index('Using new intensity correction, with phase functions\\n')\n",
    "    n=4 if phase=='Liquid Water' else 5\n",
    "    tau = data[a:][67].split('|')[n].split()[0]\n",
    "    return(tau);\n",
    "\n",
    "def read_LRT(file,phase):\n",
    "    fs = file.split('_')\n",
    "    reff = fs[3][1:] if phase =='Liquid Water' else fs[2][1:]\n",
    "    \n",
    "    fv = file.split('/')\n",
    "    ff = fv[1][0:-4] if phase =='Liquid Water' else fv[1][0:-9]\n",
    "    verbose_file = fv[0]+'/verbose/'+ff+'_550nm_verbose.txt'\n",
    "    tau = read_verbose(verbose_file,phase)\n",
    "    \n",
    "    data = [x for x in csv.reader(open(file,'r'),delimiter='\\t')]  \n",
    "    data = data[5:]\n",
    "    wl=[]           #Wavelength (nm)\n",
    "    dirL=[]         #Direct Radiance (W/m^2/nm/sr)\n",
    "    \n",
    "    loops = int(len(data)/3)\n",
    "    if phase =='Liquid Water': \n",
    "        dirL = [np.float(data[3*n+1][0][1:9]) for n in range(loops)]\n",
    "        wl = [np.float(data[3*n+1][0][1:9]) for n in range(loops)]\n",
    "    else:\n",
    "        dirL = [np.float(data[3*n+2][0][9:24]) for n in range(loops)]\n",
    "        wl = [np.float(data[3*n][0][1:9]) for n in range(loops)]\n",
    "\n",
    "    dirLW = [i*10**-3 for i in dirL] #convert to W/m^2/nm/sr\n",
    "    \n",
    "    lrt_radiances = xr.DataArray(dirLW, dims=['wavelength'], name='LRT', coords={'wavelength':wl})\n",
    "    lrt_radiances.attrs['COT'] = tau\n",
    "    lrt_radiances.attrs['r_eff'] = reff\n",
    "    return lrt_radiances;\n",
    "\n",
    "path = 'WC files'\n",
    "phase = 'Liquid Water'\n",
    "files = [os.path.join(path,f) for f in os.listdir(path)]\n",
    "file = files[0]\n",
    "lrt_rad = read_LRT(file,phase)"
   ]
  },
  {
   "cell_type": "code",
   "execution_count": 9,
   "metadata": {},
   "outputs": [],
   "source": [
    "def read_solar(file):\n",
    "    d = np.loadtxt(file, delimiter=\"\\t\")\n",
    "    solar_wl=d[:,0]\n",
    "    solar_flux=d[:,1]\n",
    "    solar_flux = np.array([i/1000 for i in solar_flux]) \n",
    "    solar = xr.DataArray(solar_flux,dims=['wavelength'], name='solar flux', coords={'wavelength':solar_wl})\n",
    "    return solar;\n",
    "\n",
    "solar_path = 'Aug14SolarRef.dat'                         \n",
    "solar = read_solar(solar_path)                         "
   ]
  },
  {
   "cell_type": "code",
   "execution_count": 10,
   "metadata": {},
   "outputs": [
    {
     "name": "stdout",
     "output_type": "stream",
     "text": [
      "<xarray.DataArray (wavelength: 617)>\n",
      "array([0.4515, 0.4545, 0.4575, ..., 2.2935, 2.2965, 2.2995])\n",
      "Coordinates:\n",
      "  * wavelength  (wavelength) float64 451.5 454.5 457.5 ... 2.296e+03 2.3e+03\n",
      "Attributes:\n",
      "    COT:      1.529480\n",
      "    r_eff:    37.5\n",
      "<xarray.DataArray 'interpolated solar flux' (wavelength: 617)>\n",
      "array([2.14  , 2.07  , 2.13  , ..., 0.0705, 0.0701, 0.0697])\n",
      "Coordinates:\n",
      "  * wavelength  (wavelength) float64 451.5 454.5 457.5 ... 2.296e+03 2.3e+03\n"
     ]
    },
    {
     "ename": "AttributeError",
     "evalue": "module 'numpy' has no attribute 'cosd'",
     "output_type": "error",
     "traceback": [
      "\u001b[0;31m---------------------------------------------------------------------------\u001b[0m",
      "\u001b[0;31mAttributeError\u001b[0m                            Traceback (most recent call last)",
      "\u001b[0;32m<ipython-input-10-a05ef718cde3>\u001b[0m in \u001b[0;36m<module>\u001b[0;34m\u001b[0m\n\u001b[1;32m     26\u001b[0m \u001b[0msolar_interp\u001b[0m \u001b[0;34m=\u001b[0m \u001b[0minterpolate_solar\u001b[0m\u001b[0;34m(\u001b[0m\u001b[0mlrt_radf\u001b[0m\u001b[0;34m,\u001b[0m\u001b[0msolar\u001b[0m\u001b[0;34m)\u001b[0m\u001b[0;34m\u001b[0m\u001b[0;34m\u001b[0m\u001b[0m\n\u001b[1;32m     27\u001b[0m \u001b[0mprint\u001b[0m\u001b[0;34m(\u001b[0m\u001b[0msolar_interp\u001b[0m\u001b[0;34m)\u001b[0m\u001b[0;34m\u001b[0m\u001b[0;34m\u001b[0m\u001b[0m\n\u001b[0;32m---> 28\u001b[0;31m \u001b[0mrefl_lrt\u001b[0m  \u001b[0;34m=\u001b[0m \u001b[0mcalc_LRT_reflectance\u001b[0m\u001b[0;34m(\u001b[0m\u001b[0mlrt_radf\u001b[0m\u001b[0;34m,\u001b[0m\u001b[0msolar_interp\u001b[0m\u001b[0;34m,\u001b[0m\u001b[0mphase\u001b[0m\u001b[0;34m)\u001b[0m\u001b[0;34m\u001b[0m\u001b[0;34m\u001b[0m\u001b[0m\n\u001b[0m\u001b[1;32m     29\u001b[0m \u001b[0mprint\u001b[0m\u001b[0;34m(\u001b[0m\u001b[0mrefl_lrt\u001b[0m\u001b[0;34m)\u001b[0m\u001b[0;34m\u001b[0m\u001b[0;34m\u001b[0m\u001b[0m\n",
      "\u001b[0;32m<ipython-input-10-a05ef718cde3>\u001b[0m in \u001b[0;36mcalc_LRT_reflectance\u001b[0;34m(lrt_radf, solar_interp, phase)\u001b[0m\n\u001b[1;32m     13\u001b[0m \u001b[0;34m\u001b[0m\u001b[0m\n\u001b[1;32m     14\u001b[0m \u001b[0;32mdef\u001b[0m \u001b[0mcalc_LRT_reflectance\u001b[0m\u001b[0;34m(\u001b[0m\u001b[0mlrt_radf\u001b[0m\u001b[0;34m,\u001b[0m\u001b[0msolar_interp\u001b[0m\u001b[0;34m,\u001b[0m\u001b[0mphase\u001b[0m\u001b[0;34m)\u001b[0m\u001b[0;34m:\u001b[0m\u001b[0;34m\u001b[0m\u001b[0;34m\u001b[0m\u001b[0m\n\u001b[0;32m---> 15\u001b[0;31m     \u001b[0mmu\u001b[0m \u001b[0;34m=\u001b[0m \u001b[0mnp\u001b[0m\u001b[0;34m.\u001b[0m\u001b[0mcosd\u001b[0m\u001b[0;34m(\u001b[0m\u001b[0;36m38.5\u001b[0m\u001b[0;34m)\u001b[0m \u001b[0;32mif\u001b[0m \u001b[0mphase\u001b[0m \u001b[0;34m==\u001b[0m \u001b[0;34m'Liquid Water'\u001b[0m \u001b[0;32melse\u001b[0m \u001b[0mnp\u001b[0m\u001b[0;34m.\u001b[0m\u001b[0mcosd\u001b[0m\u001b[0;34m(\u001b[0m\u001b[0;36m56\u001b[0m\u001b[0;34m)\u001b[0m\u001b[0;34m\u001b[0m\u001b[0;34m\u001b[0m\u001b[0m\n\u001b[0m\u001b[1;32m     16\u001b[0m     \u001b[0mrefl_lrt\u001b[0m \u001b[0;34m=\u001b[0m \u001b[0;34m[\u001b[0m\u001b[0mnp\u001b[0m\u001b[0;34m.\u001b[0m\u001b[0mpi\u001b[0m\u001b[0;34m/\u001b[0m\u001b[0mmu\u001b[0m\u001b[0;34m*\u001b[0m\u001b[0mlrt_radf\u001b[0m\u001b[0;34m.\u001b[0m\u001b[0mvalues\u001b[0m\u001b[0;34m[\u001b[0m\u001b[0mw\u001b[0m\u001b[0;34m]\u001b[0m\u001b[0;34m/\u001b[0m\u001b[0msolar_interp\u001b[0m\u001b[0;34m.\u001b[0m\u001b[0mvalues\u001b[0m\u001b[0;34m[\u001b[0m\u001b[0mw\u001b[0m\u001b[0;34m]\u001b[0m \u001b[0;32mfor\u001b[0m \u001b[0mw\u001b[0m \u001b[0;32min\u001b[0m \u001b[0mnp\u001b[0m\u001b[0;34m.\u001b[0m\u001b[0marange\u001b[0m\u001b[0;34m(\u001b[0m\u001b[0;36m0\u001b[0m\u001b[0;34m,\u001b[0m\u001b[0mlen\u001b[0m\u001b[0;34m(\u001b[0m\u001b[0mlrt_radf\u001b[0m\u001b[0;34m.\u001b[0m\u001b[0mwavelength\u001b[0m\u001b[0;34m)\u001b[0m\u001b[0;34m)\u001b[0m\u001b[0;34m]\u001b[0m\u001b[0;34m\u001b[0m\u001b[0;34m\u001b[0m\u001b[0m\n\u001b[1;32m     17\u001b[0m \u001b[0;34m\u001b[0m\u001b[0m\n",
      "\u001b[0;31mAttributeError\u001b[0m: module 'numpy' has no attribute 'cosd'"
     ]
    }
   ],
   "source": [
    "def filter_LRT_wl(lrt_rad):\n",
    "    wl_min = 450 ; wl_max = 2300\n",
    "    lrt_radf = lrt_rad.where(lrt_rad.wavelength>wl_min, drop=True)\n",
    "    lrt_radf = lrt_radf.where(lrt_radf.wavelength<wl_max, drop=True)\n",
    "    return lrt_radf;\n",
    "\n",
    "def interpolate_solar(lrt_radf,solar):\n",
    "    f = interp1d(solar.wavelength,solar.values,fill_value='NaN')\n",
    "    solar_new = f(lrt_radf.wavelength)\n",
    "    \n",
    "    solar_interp = xr.DataArray(solar_new,dims=['wavelength'], name='interpolated solar flux', coords={'wavelength':lrt_radf.wavelength})\n",
    "    return solar_interp;\n",
    "\n",
    "def calc_LRT_reflectance(lrt_radf,solar_interp,phase):\n",
    "    mu = np.cosd(38.5) if phase == 'Liquid Water' else np.cosd(56)\n",
    "    refl_lrt = [np.pi/mu*lrt_radf.values[w]/solar_interp.values[w] for w in np.arange(0,len(lrt_radf.wavelength))]\n",
    "                                                                        \n",
    "    refl_lrt = xr.DataArray(refl_lrt,dims=['wavelength'], name='lrt reflectances', coords={'wavelength':lrt_radf.wavelength})\n",
    "    refl_lrt.attrs['COT'] = lrt_radf.attrs['COT']\n",
    "    refl_lrt.attrs['r_eff'] = lrt_radf.attrs['r_eff']                                                                                                                                      \n",
    "    return refl_lrt;\n",
    "                                                                   \n",
    "#datacube_f = datacube_dvc.where(datacube_dvc.wavelength>400, drop=True)\n",
    "lrt_radf = filter_LRT_wl(lrt_rad)\n",
    "print(lrt_radf)\n",
    "solar_interp = interpolate_solar(lrt_radf,solar)\n",
    "print(solar_interp)\n",
    "refl_lrt  = calc_LRT_reflectance(lrt_radf,solar_interp,phase)\n",
    "print(refl_lrt)"
   ]
  },
  {
   "cell_type": "code",
   "execution_count": 65,
   "metadata": {},
   "outputs": [],
   "source": [
    "def calc_HySICS_reflectance(datacube,solar_interp,phase,x,y):    \n",
    "    f=interp1d(datacube.wavelength,datacube.values[x,y,:],fill_value='NaN')\n",
    "    hy_new = f(solar_interp.wavelength)\n",
    "    \n",
    "    mu = np.cosd(38.5) if phase == 'Liquid Water' else np.cosd(56)\n",
    "    refl_HySICS= [np.pi/mu*hy_new[w]/solar_interp.values[w] for w in np.arange(0,len(solar_interp.wavelength))]\n",
    "    \n",
    "    refl_hysics_pixel = xr.DataArray(refl_HySICS,dims=['wavelength'], name='HySICS reflectance', coords={'wavelength':solar_interp.wavelength})\n",
    "    return refl_hysics_pixel;\n",
    "\n",
    "refl_hysics_pixel = calc_HySICS_reflectance(datacube_dvc,solar_interp,phase,0,0)"
   ]
  },
  {
   "cell_type": "code",
   "execution_count": 204,
   "metadata": {},
   "outputs": [
    {
     "name": "stderr",
     "output_type": "stream",
     "text": [
      "/ncar/usr/jupyterhub/envs/pangeo-3.6/lib/python3.6/site-packages/ipykernel_launcher.py:9: DeprecationWarning: object of type <class 'float'> cannot be safely interpreted as an integer.\n",
      "  if __name__ == '__main__':\n"
     ]
    }
   ],
   "source": [
    "def find_retrieval_wavelengths(num_wl): \n",
    "    if num_wl%5 !=0: print('Number of wavelengths in algorithm must be a factor of 5.')   \n",
    "    \n",
    "    if (num_wl ==5):\n",
    "        retrieval_wl_list=[[750], [1000], [1200], [1660], [2200]]\n",
    "    else:\n",
    "        wl_lims = [[600,750], [1000,1080], [1240,1320], [1600,1750], [2100,2200]]\n",
    "        num = num_wl/5\n",
    "        retrieval_wl_list = [np.linspace(wl_lims[w][0],wl_lims[w][1],num) for w in np.arange(0,5)]\n",
    "    return retrieval_wl_list;\n",
    "\n",
    "num_wl = 15\n",
    "retrieval_wl_list = find_retrieval_wavelengths(num_wl)"
   ]
  },
  {
   "cell_type": "code",
   "execution_count": 212,
   "metadata": {},
   "outputs": [],
   "source": [
    "def find_retrieval_idx_list(retrieval_wl_list,solar_interp):   \n",
    "    idx_list = []\n",
    "    for i in np.arange(0,5):\n",
    "        cols = []\n",
    "        for j in np.arange(0,len(retrieval_wl_list[0])):\n",
    "            a = [np.min(np.abs(retrieval_wl_list[i][j] - x)) for x in solar_interp.wavelength] \n",
    "            val, idx = min((val, idx) for (idx, val) in enumerate(a))\n",
    "            cols.append(int(idx))\n",
    "        idx_list.append(cols)\n",
    "    return idx_list;\n",
    "\n",
    "retrieval_idx_list = find_retrieval_idx_list(retrieval_wl_list,solar_interp)"
   ]
  },
  {
   "cell_type": "code",
   "execution_count": 225,
   "metadata": {},
   "outputs": [
    {
     "data": {
      "text/plain": [
       "array(3571.77384153)"
      ]
     },
     "execution_count": 225,
     "metadata": {},
     "output_type": "execute_result"
    }
   ],
   "source": [
    "def find_sigma_k_j(refl_lrt,refl_hysics,idx_1,k,j):\n",
    "    reflectance_term = (5-k)**2*(refl_lrt.values[j]-refl_hysics.values[j])**2\n",
    "    ratio_term = (k-1)**2*(refl_lrt.values[j]/refl_lrt.values[idx_1]- refl_hysics.values[j]/refl_hysics.values[idx_1])**2\n",
    "    sigma_k_j = reflectance_term + ratio_term\n",
    "    return sigma_k_j\n",
    "\n",
    "def find_sigma_k(refl_lrt,refl_hysics,retrieval_idx_list,idx_1,i):\n",
    "    k = i+1\n",
    "    sigma_k = [find_sigma_k_j(refl_lrt,refl_hysics,idx_1,k,j) for j in retrieval_idx_list[i]] \n",
    "    return sigma_k\n",
    "\n",
    "def calc_disagreement(refl_hysics,refl_lrt,retrieval_idx_list):  \n",
    "    idx_1 = retrieval_idx_list[0][0]\n",
    "    \n",
    "    sigma_all = [find_sigma_k(refl_lrt,refl_hysics,retrieval_idx_list,idx_1,i) for i in np.arange(0,5)] \n",
    "    \n",
    "    sigma = np.sum(sigma_all)\n",
    "    chi_sq = sigma/(len(retrieval_idx_list[0])*60) \n",
    "    diff = np.sqrt(chi_sq)*100\n",
    "    \n",
    "    disagreement = xr.DataArray(diff)\n",
    "    disagreement.attrs['COT'] = refl_lrt.attrs['COT']\n",
    "    disagreement.attrs['r_eff'] = refl_lrt.attrs['r_eff']\n",
    "    return disagreement;\n",
    "\n",
    "disagreement = calc_disagreement(refl_hysics_pixel, refl_lrt, retrieval_idx_list)\n",
    "disagreement.values"
   ]
  },
  {
   "cell_type": "code",
   "execution_count": 235,
   "metadata": {},
   "outputs": [],
   "source": [
    "def gen_refl_lrt_list(path,phase,solar_interp,phase):\n",
    "    refl_lrt_list = []\n",
    "    files = [os.path.join(path,f) for f in os.listdir(path)]\n",
    "    lrt_rads = [read_LRT(f,phase) for f in files if f.endswith('.dat')]\n",
    "    lrt_radfs = [filter_LRT_wl(lrt_rad)for lrt_rad in lrt_rads]\n",
    "    refl_lrts = [calc_LRT_reflectance(r,solar_interp,phase) for r in lrt_radfs]\n",
    "    return (refl_lrts);\n",
    "\n",
    "path = 'WC files'\n",
    "phase = 'Liquid Water'\n",
    "refl_lrt_list = gen_refl_lrt_list(path,phase,solar_interp,phase)"
   ]
  },
  {
   "cell_type": "code",
   "execution_count": 236,
   "metadata": {},
   "outputs": [],
   "source": [
    "def calc_best_diff(refl_hysics_pixel,refl_lrt_list, retrieval_idx_list):    \n",
    "    diff_list = [calc_disagreement(refl_hysics_pixel, r, retrieval_idx_list) for r in refl_lrt_list]\n",
    "        \n",
    "    best_diff, idx_diff = min((val, idx) for (idx, val) in enumerate(diff_list))\n",
    "    return(best_diff);\n",
    "\n",
    "best_diff = calc_best_diff(refl_hysics_pixel,refl_lrt_list, retrieval_idx_list)"
   ]
  },
  {
   "cell_type": "code",
   "execution_count": 241,
   "metadata": {},
   "outputs": [
    {
     "data": {
      "text/plain": [
       "'37.5'"
      ]
     },
     "execution_count": 241,
     "metadata": {},
     "output_type": "execute_result"
    }
   ],
   "source": [
    "best_diff.r_eff"
   ]
  },
  {
   "cell_type": "code",
   "execution_count": null,
   "metadata": {},
   "outputs": [],
   "source": []
  }
 ],
 "metadata": {
  "kernelspec": {
   "display_name": "Pangeo (Python 3.6)",
   "language": "python",
   "name": "pangeo-3.6"
  },
  "language_info": {
   "codemirror_mode": {
    "name": "ipython",
    "version": 3
   },
   "file_extension": ".py",
   "mimetype": "text/x-python",
   "name": "python",
   "nbconvert_exporter": "python",
   "pygments_lexer": "ipython3",
   "version": "3.6.7"
  }
 },
 "nbformat": 4,
 "nbformat_minor": 2
}
